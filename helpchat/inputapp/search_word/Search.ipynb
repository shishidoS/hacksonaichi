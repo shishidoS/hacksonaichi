{
 "cells": [
  {
   "cell_type": "code",
   "execution_count": 1,
   "metadata": {},
   "outputs": [
    {
     "ename": "FileNotFoundError",
     "evalue": "[Errno 2] No such file or directory: '/content/drive/MyDrive/Program/hack_aichi/test_input.txt'",
     "output_type": "error",
     "traceback": [
      "\u001b[0;31m---------------------------------------------------------------------------\u001b[0m",
      "\u001b[0;31mFileNotFoundError\u001b[0m                         Traceback (most recent call last)",
      "Cell \u001b[0;32mIn[1], line 25\u001b[0m\n\u001b[1;32m     22\u001b[0m     in_text \u001b[38;5;241m=\u001b[39m input_file(\u001b[38;5;124m'\u001b[39m\u001b[38;5;124m/content/drive/MyDrive/Program/hack_aichi/test_anser.txt\u001b[39m\u001b[38;5;124m'\u001b[39m, \u001b[38;5;28;01mTrue\u001b[39;00m)\n\u001b[1;32m     23\u001b[0m     \u001b[38;5;28;01mreturn\u001b[39;00m in_text[jire_num]\n\u001b[0;32m---> 25\u001b[0m input_text \u001b[38;5;241m=\u001b[39m \u001b[43minput_file\u001b[49m\u001b[43m(\u001b[49m\u001b[38;5;124;43m'\u001b[39;49m\u001b[38;5;124;43m/content/drive/MyDrive/Program/hack_aichi/test_input.txt\u001b[39;49m\u001b[38;5;124;43m'\u001b[39;49m\u001b[43m,\u001b[49m\u001b[43m \u001b[49m\u001b[38;5;28;43;01mFalse\u001b[39;49;00m\u001b[43m)\u001b[49m\n\u001b[1;32m     26\u001b[0m input_word \u001b[38;5;241m=\u001b[39m word_split(input_text)\n\u001b[1;32m     27\u001b[0m \u001b[38;5;66;03m# print(input_word)\u001b[39;00m\n",
      "Cell \u001b[0;32mIn[1], line 8\u001b[0m, in \u001b[0;36minput_file\u001b[0;34m(file_path, input_lines)\u001b[0m\n\u001b[1;32m      6\u001b[0m \u001b[38;5;28;01mdef\u001b[39;00m \u001b[38;5;21minput_file\u001b[39m(file_path, input_lines): \u001b[38;5;66;03m# ファイル読み込み(ファイルパス, 行毎に分けるか)\u001b[39;00m\n\u001b[1;32m      7\u001b[0m     \u001b[38;5;28;01mif\u001b[39;00m input_lines \u001b[38;5;241m!=\u001b[39m \u001b[38;5;28;01mTrue\u001b[39;00m: \u001b[38;5;66;03m# そのまま読み込む\u001b[39;00m\n\u001b[0;32m----> 8\u001b[0m         \u001b[38;5;28;01mwith\u001b[39;00m \u001b[38;5;28;43mopen\u001b[39;49m\u001b[43m(\u001b[49m\u001b[43mfile_path\u001b[49m\u001b[43m,\u001b[49m\u001b[43m \u001b[49m\u001b[43mencoding\u001b[49m\u001b[38;5;241;43m=\u001b[39;49m\u001b[38;5;124;43m'\u001b[39;49m\u001b[38;5;124;43mutf-8\u001b[39;49m\u001b[38;5;124;43m'\u001b[39;49m\u001b[43m)\u001b[49m \u001b[38;5;28;01mas\u001b[39;00m in_text:\n\u001b[1;32m      9\u001b[0m             in_text \u001b[38;5;241m=\u001b[39m in_text\u001b[38;5;241m.\u001b[39mread()\n\u001b[1;32m     10\u001b[0m     \u001b[38;5;28;01melse\u001b[39;00m:                   \u001b[38;5;66;03m# 行毎に読み込む\u001b[39;00m\n",
      "File \u001b[0;32m~/.local/lib/python3.10/site-packages/IPython/core/interactiveshell.py:324\u001b[0m, in \u001b[0;36m_modified_open\u001b[0;34m(file, *args, **kwargs)\u001b[0m\n\u001b[1;32m    317\u001b[0m \u001b[38;5;28;01mif\u001b[39;00m file \u001b[38;5;129;01min\u001b[39;00m {\u001b[38;5;241m0\u001b[39m, \u001b[38;5;241m1\u001b[39m, \u001b[38;5;241m2\u001b[39m}:\n\u001b[1;32m    318\u001b[0m     \u001b[38;5;28;01mraise\u001b[39;00m \u001b[38;5;167;01mValueError\u001b[39;00m(\n\u001b[1;32m    319\u001b[0m         \u001b[38;5;124mf\u001b[39m\u001b[38;5;124m\"\u001b[39m\u001b[38;5;124mIPython won\u001b[39m\u001b[38;5;124m'\u001b[39m\u001b[38;5;124mt let you open fd=\u001b[39m\u001b[38;5;132;01m{\u001b[39;00mfile\u001b[38;5;132;01m}\u001b[39;00m\u001b[38;5;124m by default \u001b[39m\u001b[38;5;124m\"\u001b[39m\n\u001b[1;32m    320\u001b[0m         \u001b[38;5;124m\"\u001b[39m\u001b[38;5;124mas it is likely to crash IPython. If you know what you are doing, \u001b[39m\u001b[38;5;124m\"\u001b[39m\n\u001b[1;32m    321\u001b[0m         \u001b[38;5;124m\"\u001b[39m\u001b[38;5;124myou can use builtins\u001b[39m\u001b[38;5;124m'\u001b[39m\u001b[38;5;124m open.\u001b[39m\u001b[38;5;124m\"\u001b[39m\n\u001b[1;32m    322\u001b[0m     )\n\u001b[0;32m--> 324\u001b[0m \u001b[38;5;28;01mreturn\u001b[39;00m \u001b[43mio_open\u001b[49m\u001b[43m(\u001b[49m\u001b[43mfile\u001b[49m\u001b[43m,\u001b[49m\u001b[43m \u001b[49m\u001b[38;5;241;43m*\u001b[39;49m\u001b[43margs\u001b[49m\u001b[43m,\u001b[49m\u001b[43m \u001b[49m\u001b[38;5;241;43m*\u001b[39;49m\u001b[38;5;241;43m*\u001b[39;49m\u001b[43mkwargs\u001b[49m\u001b[43m)\u001b[49m\n",
      "\u001b[0;31mFileNotFoundError\u001b[0m: [Errno 2] No such file or directory: '/content/drive/MyDrive/Program/hack_aichi/test_input.txt'"
     ]
    }
   ],
   "source": [
    "from janome.tokenizer import Tokenizer\n",
    "\n",
    "t = Tokenizer(wakati=False) # 分かち書きなし\n",
    "results = []\n",
    "\n",
    "def input_file(file_path, input_lines): # ファイル読み込み(ファイルパス, 行毎に分けるか)\n",
    "    if input_lines != True: # そのまま読み込む\n",
    "        with open(file_path, encoding='utf-8') as in_text:\n",
    "            in_text = in_text.read()\n",
    "    else:                   # 行毎に読み込む\n",
    "        with open(file_path, encoding='utf-8') as in_text:\n",
    "            in_text = in_text.readlines()\n",
    "            in_text = tuple(in_text)\n",
    "    return in_text\n",
    "def word_split(word_text):  # 形態素解析と単語分割\n",
    "    word_text_list = []\n",
    "    for i in t.tokenize(word_text):\n",
    "        word_text_list.append(i.reading)\n",
    "        word_text_list[-1] = word_text_list[-1]\n",
    "    return tuple(word_text_list)\n",
    "def anser_input(jire_num):\n",
    "    in_text = input_file('/content/drive/MyDrive/Program/hack_aichi/test_anser.txt', True)\n",
    "    return in_text[jire_num]\n",
    "\n",
    "input_text = input_file('/content/drive/MyDrive/Program/hack_aichi/test_input.txt', False)\n",
    "input_word = word_split(input_text)\n",
    "# print(input_word)\n",
    "jire_lines = input_file('/content/drive/MyDrive/Program/hack_aichi/test_jire.txt', True)\n",
    "# print(jire_lines)\n",
    "for index, line in enumerate(jire_lines):\n",
    "    jire_word = word_split(line.strip())    # strip()で改行文字を除去\n",
    "    # print(jire_word)\n",
    "    match_count = sum(word in jire_word for word in input_word)\n",
    "    # print(match_count)\n",
    "    results.append((line.strip(), match_count, index))\n",
    "results.sort(key=lambda x: x[1], reverse=True)\n",
    "# print(results)\n",
    "for line, count, index in results:  # マッチング一覧\n",
    "    print(f'事例{index + 1}:\\n{count}ワードマッチ\\n解決方法:{anser_input(index)}')"
   ]
  }
 ],
 "metadata": {
  "kernelspec": {
   "display_name": "Python 3",
   "language": "python",
   "name": "python3"
  },
  "language_info": {
   "codemirror_mode": {
    "name": "ipython",
    "version": 3
   },
   "file_extension": ".py",
   "mimetype": "text/x-python",
   "name": "python",
   "nbconvert_exporter": "python",
   "pygments_lexer": "ipython3",
   "version": "3.10.12"
  }
 },
 "nbformat": 4,
 "nbformat_minor": 2
}
